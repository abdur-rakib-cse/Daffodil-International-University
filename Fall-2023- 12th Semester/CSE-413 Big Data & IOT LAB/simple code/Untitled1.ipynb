{
  "nbformat": 4,
  "nbformat_minor": 0,
  "metadata": {
    "colab": {
      "name": "Untitled1.ipynb",
      "provenance": []
    },
    "kernelspec": {
      "name": "python3",
      "display_name": "Python 3"
    },
    "language_info": {
      "name": "python"
    }
  },
  "cells": [
    {
      "cell_type": "code",
      "execution_count": null,
      "metadata": {
        "colab": {
          "base_uri": "https://localhost:8080/"
        },
        "id": "k7N774_4DpK5",
        "outputId": "41d0dd52-bb6c-4cc3-e5c6-af4df0cd21cb"
      },
      "outputs": [
        {
          "output_type": "stream",
          "name": "stdout",
          "text": [
            "Looking in indexes: https://pypi.org/simple, https://us-python.pkg.dev/colab-wheels/public/simple/\n",
            "Collecting pyspark\n",
            "  Downloading pyspark-3.3.0.tar.gz (281.3 MB)\n",
            "\u001b[K     |████████████████████████████████| 281.3 MB 52 kB/s \n",
            "\u001b[?25hCollecting py4j\n",
            "\u001b[33m  WARNING: Retrying (Retry(total=4, connect=None, read=None, redirect=None, status=None)) after connection broken by 'ProtocolError('Connection aborted.', ConnectionResetError(104, 'Connection reset by peer'))': /packages/10/30/a58b32568f1623aaad7db22aa9eafc4c6c194b429ff35bdc55ca2726da47/py4j-0.10.9.7-py2.py3-none-any.whl\u001b[0m\n",
            "  Downloading py4j-0.10.9.7-py2.py3-none-any.whl (200 kB)\n",
            "\u001b[K     |████████████████████████████████| 200 kB 20.6 MB/s \n",
            "\u001b[?25h  Downloading py4j-0.10.9.5-py2.py3-none-any.whl (199 kB)\n",
            "\u001b[K     |████████████████████████████████| 199 kB 49.3 MB/s \n",
            "\u001b[?25hBuilding wheels for collected packages: pyspark\n",
            "  Building wheel for pyspark (setup.py) ... \u001b[?25l\u001b[?25hdone\n",
            "  Created wheel for pyspark: filename=pyspark-3.3.0-py2.py3-none-any.whl size=281764026 sha256=fd8546871925d58cb7563aad182de9cb944d97d7bff007be5a307247f40ca048\n",
            "  Stored in directory: /root/.cache/pip/wheels/7a/8e/1b/f73a52650d2e5f337708d9f6a1750d451a7349a867f928b885\n",
            "Successfully built pyspark\n",
            "Installing collected packages: py4j, pyspark\n",
            "Successfully installed py4j-0.10.9.5 pyspark-3.3.0\n"
          ]
        }
      ],
      "source": [
        "!pip install pyspark py4j"
      ]
    },
    {
      "cell_type": "code",
      "source": [
        "import pyspark"
      ],
      "metadata": {
        "id": "v_HkT_Ew_Wjr"
      },
      "execution_count": null,
      "outputs": []
    },
    {
      "cell_type": "code",
      "source": [
        "from pyspark.sql import SparkSession"
      ],
      "metadata": {
        "id": "0tWTMmu7_n4b"
      },
      "execution_count": null,
      "outputs": []
    },
    {
      "cell_type": "code",
      "source": [
        "spark = SparkSession.builder.appName(\"practice\").getOrCreate()"
      ],
      "metadata": {
        "id": "fWlU-zDZ_-nL"
      },
      "execution_count": null,
      "outputs": []
    },
    {
      "cell_type": "code",
      "source": [
        "myList = [('a',1),('b',2),('c',3),('d',4),('e',5),('f',6)]"
      ],
      "metadata": {
        "id": "ww5-qKmJAaZD"
      },
      "execution_count": null,
      "outputs": []
    },
    {
      "cell_type": "code",
      "source": [
        "myList"
      ],
      "metadata": {
        "colab": {
          "base_uri": "https://localhost:8080/"
        },
        "id": "Q1gvwgCmBg3T",
        "outputId": "5a0c237e-e95a-4bea-ef2b-405c71193f57"
      },
      "execution_count": null,
      "outputs": [
        {
          "output_type": "execute_result",
          "data": {
            "text/plain": [
              "[('a', 1), ('b', 2), ('c', 3), ('d', 4), ('e', 5), ('f', 6)]"
            ]
          },
          "metadata": {},
          "execution_count": 15
        }
      ]
    },
    {
      "cell_type": "code",
      "source": [
        "list_RDD = spark.sparkContext.parallelize(myList)"
      ],
      "metadata": {
        "id": "jGZQ1IG7EGLM"
      },
      "execution_count": null,
      "outputs": []
    },
    {
      "cell_type": "code",
      "source": [
        "list_RDD.collect()"
      ],
      "metadata": {
        "colab": {
          "base_uri": "https://localhost:8080/"
        },
        "id": "LSHHH5c-E4BE",
        "outputId": "f36e410c-a1e3-4ee6-f675-f44a7dc58d50"
      },
      "execution_count": null,
      "outputs": [
        {
          "output_type": "execute_result",
          "data": {
            "text/plain": [
              "[('a', 1), ('b', 2), ('c', 3), ('d', 4), ('e', 5), ('f', 6)]"
            ]
          },
          "metadata": {},
          "execution_count": 17
        }
      ]
    },
    {
      "cell_type": "code",
      "source": [
        "text_file =open(\"/content/drive/MyDrive/Colab Notebooks/Spark1.txt\")"
      ],
      "metadata": {
        "id": "9NAf-XQxFH3M"
      },
      "execution_count": null,
      "outputs": []
    },
    {
      "cell_type": "code",
      "source": [
        "text_file.read()"
      ],
      "metadata": {
        "colab": {
          "base_uri": "https://localhost:8080/",
          "height": 174
        },
        "id": "PhJVzRoPHH2V",
        "outputId": "f67b857e-ce23-4075-aab6-9c1e8c693fbb"
      },
      "execution_count": null,
      "outputs": [
        {
          "output_type": "execute_result",
          "data": {
            "text/plain": [
              "\"Lorem Ipsum is simply dummy text of the printing and typesetting industry. Lorem Ipsum has been the industry's standard dummy text ever since the 1500s, when an unknown printer took a galley of type and scrambled it to make a type specimen book. It has survived not only five centuries, but also the leap into electronic typesetting, remaining essentially unchanged. It was popularised in the 1960s with the release of Letraset sheets containing Lorem Ipsum passages, and more recently with desktop publishing software like Aldus PageMaker including versions of Lorem Ipsum.\\nLorem Ipsum is simply dummy text of the printing and typesetting industry. Lorem Ipsum has been the industry's standard dummy text ever since the 1500s, when an unknown printer took a galley of type and scrambled it to make a type specimen book. It has survived not only five centuries, but also the leap into electronic typesetting, remaining essentially unchanged. It was popularised in the 1960s with the release of Letraset sheets containing Lorem Ipsum passages, and more recently with desktop publishing software like Aldus PageMaker including versions of Lorem Ipsum.\\nLorem Ipsum is simply dummy text of the printing and typesetting industry. Lorem Ipsum has been the industry's standard dummy text ever since the 1500s, when an unknown printer took a galley of type and scrambled it to make a type specimen book. It has survived not only five centuries, but also the leap into electronic typesetting, remaining essentially unchanged. It was popularised in the 1960s with the release of Letraset sheets containing Lorem Ipsum passages, and more recently with desktop publishing software like Aldus PageMaker including versions of Lorem Ipsum.\\nLorem Ipsum is simply dummy text of the printing and typesetting industry. Lorem Ipsum has been the industry's standard dummy text ever since the 1500s, when an unknown printer took a galley of type and scrambled it to make a type specimen book. It has survived not only five centuries, but also the leap into electronic typesetting, remaining essentially unchanged. It was popularised in the 1960s with the release of Letraset sheets containing Lorem Ipsum passages, and more recently with desktop publishing software like Aldus PageMaker including versions of Lorem Ipsum.\\nLorem Ipsum is simply dummy text of the printing and typesetting industry. Lorem Ipsum has been the industry's standard dummy text ever since the 1500s, when an unknown printer took a galley of type and scrambled it to make a type specimen book. It has survived not only five centuries, but also the leap into electronic typesetting, remaining essentially unchanged. It was popularised in the 1960s with the release of Letraset sheets containing Lorem Ipsum passages, and more recently with desktop publishing software like Aldus PageMaker including versions of Lorem Ipsum.\\nLorem Ipsum is simply dummy text of the printing and typesetting industry. Lorem Ipsum has been the industry's standard dummy text ever since the 1500s, when an unknown printer took a galley of type and scrambled it to make a type specimen book. It has survived not only five centuries, but also the leap into electronic typesetting, remaining essentially unchanged. It was popularised in the 1960s with the release of Letraset sheets containing Lorem Ipsum passages, and more recently with desktop publishing software like Aldus PageMaker including versions of Lorem Ipsum.\""
            ],
            "application/vnd.google.colaboratory.intrinsic+json": {
              "type": "string"
            }
          },
          "metadata": {},
          "execution_count": 19
        }
      ]
    },
    {
      "cell_type": "code",
      "source": [
        "text_RDD=spark.sparkContext.textFile(\"/content/drive/MyDrive/Colab Notebooks/Spark1.txt\")"
      ],
      "metadata": {
        "id": "GcoKdZbDLc-W"
      },
      "execution_count": null,
      "outputs": []
    },
    {
      "cell_type": "code",
      "source": [
        "text_RDD.count()"
      ],
      "metadata": {
        "colab": {
          "base_uri": "https://localhost:8080/"
        },
        "id": "V_OVUGcHOcVO",
        "outputId": "b74d4c72-3447-4da2-9a00-79830db6abbb"
      },
      "execution_count": null,
      "outputs": [
        {
          "output_type": "execute_result",
          "data": {
            "text/plain": [
              "6"
            ]
          },
          "metadata": {},
          "execution_count": 21
        }
      ]
    },
    {
      "cell_type": "code",
      "source": [
        "text_RDD.collect()"
      ],
      "metadata": {
        "colab": {
          "base_uri": "https://localhost:8080/"
        },
        "id": "SYaTsE6aOhdV",
        "outputId": "c5d5e646-2325-4346-baf2-25d549691798"
      },
      "execution_count": null,
      "outputs": [
        {
          "output_type": "execute_result",
          "data": {
            "text/plain": [
              "[\"Lorem Ipsum is simply dummy text of the printing and typesetting industry. Lorem Ipsum has been the industry's standard dummy text ever since the 1500s, when an unknown printer took a galley of type and scrambled it to make a type specimen book. It has survived not only five centuries, but also the leap into electronic typesetting, remaining essentially unchanged. It was popularised in the 1960s with the release of Letraset sheets containing Lorem Ipsum passages, and more recently with desktop publishing software like Aldus PageMaker including versions of Lorem Ipsum.\",\n",
              " \"Lorem Ipsum is simply dummy text of the printing and typesetting industry. Lorem Ipsum has been the industry's standard dummy text ever since the 1500s, when an unknown printer took a galley of type and scrambled it to make a type specimen book. It has survived not only five centuries, but also the leap into electronic typesetting, remaining essentially unchanged. It was popularised in the 1960s with the release of Letraset sheets containing Lorem Ipsum passages, and more recently with desktop publishing software like Aldus PageMaker including versions of Lorem Ipsum.\",\n",
              " \"Lorem Ipsum is simply dummy text of the printing and typesetting industry. Lorem Ipsum has been the industry's standard dummy text ever since the 1500s, when an unknown printer took a galley of type and scrambled it to make a type specimen book. It has survived not only five centuries, but also the leap into electronic typesetting, remaining essentially unchanged. It was popularised in the 1960s with the release of Letraset sheets containing Lorem Ipsum passages, and more recently with desktop publishing software like Aldus PageMaker including versions of Lorem Ipsum.\",\n",
              " \"Lorem Ipsum is simply dummy text of the printing and typesetting industry. Lorem Ipsum has been the industry's standard dummy text ever since the 1500s, when an unknown printer took a galley of type and scrambled it to make a type specimen book. It has survived not only five centuries, but also the leap into electronic typesetting, remaining essentially unchanged. It was popularised in the 1960s with the release of Letraset sheets containing Lorem Ipsum passages, and more recently with desktop publishing software like Aldus PageMaker including versions of Lorem Ipsum.\",\n",
              " \"Lorem Ipsum is simply dummy text of the printing and typesetting industry. Lorem Ipsum has been the industry's standard dummy text ever since the 1500s, when an unknown printer took a galley of type and scrambled it to make a type specimen book. It has survived not only five centuries, but also the leap into electronic typesetting, remaining essentially unchanged. It was popularised in the 1960s with the release of Letraset sheets containing Lorem Ipsum passages, and more recently with desktop publishing software like Aldus PageMaker including versions of Lorem Ipsum.\",\n",
              " \"Lorem Ipsum is simply dummy text of the printing and typesetting industry. Lorem Ipsum has been the industry's standard dummy text ever since the 1500s, when an unknown printer took a galley of type and scrambled it to make a type specimen book. It has survived not only five centuries, but also the leap into electronic typesetting, remaining essentially unchanged. It was popularised in the 1960s with the release of Letraset sheets containing Lorem Ipsum passages, and more recently with desktop publishing software like Aldus PageMaker including versions of Lorem Ipsum.\"]"
            ]
          },
          "metadata": {},
          "execution_count": 22
        }
      ]
    },
    {
      "cell_type": "code",
      "source": [
        "def Func(lines):\n",
        "  lines = lines.lower()\n",
        "  lines = lines.split()\n",
        "  return lines\n",
        "\n",
        "\n",
        "split_RDD = text_RDD.map(Func) "
      ],
      "metadata": {
        "id": "iOACIhU5HrYW"
      },
      "execution_count": null,
      "outputs": []
    },
    {
      "cell_type": "code",
      "source": [
        "split_RDD.count()"
      ],
      "metadata": {
        "colab": {
          "base_uri": "https://localhost:8080/"
        },
        "id": "Bkw4yB0NI7o8",
        "outputId": "59fe4bf8-aa78-4658-df36-427259597fe9"
      },
      "execution_count": null,
      "outputs": [
        {
          "output_type": "execute_result",
          "data": {
            "text/plain": [
              "6"
            ]
          },
          "metadata": {},
          "execution_count": 25
        }
      ]
    },
    {
      "cell_type": "code",
      "source": [
        "split_RDD.collect()"
      ],
      "metadata": {
        "colab": {
          "base_uri": "https://localhost:8080/"
        },
        "id": "0nEhd3XeJBbk",
        "outputId": "4a7e70cd-7eea-463e-b56e-776636bf7e35"
      },
      "execution_count": null,
      "outputs": [
        {
          "output_type": "execute_result",
          "data": {
            "text/plain": [
              "[['lorem',\n",
              "  'ipsum',\n",
              "  'is',\n",
              "  'simply',\n",
              "  'dummy',\n",
              "  'text',\n",
              "  'of',\n",
              "  'the',\n",
              "  'printing',\n",
              "  'and',\n",
              "  'typesetting',\n",
              "  'industry.',\n",
              "  'lorem',\n",
              "  'ipsum',\n",
              "  'has',\n",
              "  'been',\n",
              "  'the',\n",
              "  \"industry's\",\n",
              "  'standard',\n",
              "  'dummy',\n",
              "  'text',\n",
              "  'ever',\n",
              "  'since',\n",
              "  'the',\n",
              "  '1500s,',\n",
              "  'when',\n",
              "  'an',\n",
              "  'unknown',\n",
              "  'printer',\n",
              "  'took',\n",
              "  'a',\n",
              "  'galley',\n",
              "  'of',\n",
              "  'type',\n",
              "  'and',\n",
              "  'scrambled',\n",
              "  'it',\n",
              "  'to',\n",
              "  'make',\n",
              "  'a',\n",
              "  'type',\n",
              "  'specimen',\n",
              "  'book.',\n",
              "  'it',\n",
              "  'has',\n",
              "  'survived',\n",
              "  'not',\n",
              "  'only',\n",
              "  'five',\n",
              "  'centuries,',\n",
              "  'but',\n",
              "  'also',\n",
              "  'the',\n",
              "  'leap',\n",
              "  'into',\n",
              "  'electronic',\n",
              "  'typesetting,',\n",
              "  'remaining',\n",
              "  'essentially',\n",
              "  'unchanged.',\n",
              "  'it',\n",
              "  'was',\n",
              "  'popularised',\n",
              "  'in',\n",
              "  'the',\n",
              "  '1960s',\n",
              "  'with',\n",
              "  'the',\n",
              "  'release',\n",
              "  'of',\n",
              "  'letraset',\n",
              "  'sheets',\n",
              "  'containing',\n",
              "  'lorem',\n",
              "  'ipsum',\n",
              "  'passages,',\n",
              "  'and',\n",
              "  'more',\n",
              "  'recently',\n",
              "  'with',\n",
              "  'desktop',\n",
              "  'publishing',\n",
              "  'software',\n",
              "  'like',\n",
              "  'aldus',\n",
              "  'pagemaker',\n",
              "  'including',\n",
              "  'versions',\n",
              "  'of',\n",
              "  'lorem',\n",
              "  'ipsum.'],\n",
              " ['lorem',\n",
              "  'ipsum',\n",
              "  'is',\n",
              "  'simply',\n",
              "  'dummy',\n",
              "  'text',\n",
              "  'of',\n",
              "  'the',\n",
              "  'printing',\n",
              "  'and',\n",
              "  'typesetting',\n",
              "  'industry.',\n",
              "  'lorem',\n",
              "  'ipsum',\n",
              "  'has',\n",
              "  'been',\n",
              "  'the',\n",
              "  \"industry's\",\n",
              "  'standard',\n",
              "  'dummy',\n",
              "  'text',\n",
              "  'ever',\n",
              "  'since',\n",
              "  'the',\n",
              "  '1500s,',\n",
              "  'when',\n",
              "  'an',\n",
              "  'unknown',\n",
              "  'printer',\n",
              "  'took',\n",
              "  'a',\n",
              "  'galley',\n",
              "  'of',\n",
              "  'type',\n",
              "  'and',\n",
              "  'scrambled',\n",
              "  'it',\n",
              "  'to',\n",
              "  'make',\n",
              "  'a',\n",
              "  'type',\n",
              "  'specimen',\n",
              "  'book.',\n",
              "  'it',\n",
              "  'has',\n",
              "  'survived',\n",
              "  'not',\n",
              "  'only',\n",
              "  'five',\n",
              "  'centuries,',\n",
              "  'but',\n",
              "  'also',\n",
              "  'the',\n",
              "  'leap',\n",
              "  'into',\n",
              "  'electronic',\n",
              "  'typesetting,',\n",
              "  'remaining',\n",
              "  'essentially',\n",
              "  'unchanged.',\n",
              "  'it',\n",
              "  'was',\n",
              "  'popularised',\n",
              "  'in',\n",
              "  'the',\n",
              "  '1960s',\n",
              "  'with',\n",
              "  'the',\n",
              "  'release',\n",
              "  'of',\n",
              "  'letraset',\n",
              "  'sheets',\n",
              "  'containing',\n",
              "  'lorem',\n",
              "  'ipsum',\n",
              "  'passages,',\n",
              "  'and',\n",
              "  'more',\n",
              "  'recently',\n",
              "  'with',\n",
              "  'desktop',\n",
              "  'publishing',\n",
              "  'software',\n",
              "  'like',\n",
              "  'aldus',\n",
              "  'pagemaker',\n",
              "  'including',\n",
              "  'versions',\n",
              "  'of',\n",
              "  'lorem',\n",
              "  'ipsum.'],\n",
              " ['lorem',\n",
              "  'ipsum',\n",
              "  'is',\n",
              "  'simply',\n",
              "  'dummy',\n",
              "  'text',\n",
              "  'of',\n",
              "  'the',\n",
              "  'printing',\n",
              "  'and',\n",
              "  'typesetting',\n",
              "  'industry.',\n",
              "  'lorem',\n",
              "  'ipsum',\n",
              "  'has',\n",
              "  'been',\n",
              "  'the',\n",
              "  \"industry's\",\n",
              "  'standard',\n",
              "  'dummy',\n",
              "  'text',\n",
              "  'ever',\n",
              "  'since',\n",
              "  'the',\n",
              "  '1500s,',\n",
              "  'when',\n",
              "  'an',\n",
              "  'unknown',\n",
              "  'printer',\n",
              "  'took',\n",
              "  'a',\n",
              "  'galley',\n",
              "  'of',\n",
              "  'type',\n",
              "  'and',\n",
              "  'scrambled',\n",
              "  'it',\n",
              "  'to',\n",
              "  'make',\n",
              "  'a',\n",
              "  'type',\n",
              "  'specimen',\n",
              "  'book.',\n",
              "  'it',\n",
              "  'has',\n",
              "  'survived',\n",
              "  'not',\n",
              "  'only',\n",
              "  'five',\n",
              "  'centuries,',\n",
              "  'but',\n",
              "  'also',\n",
              "  'the',\n",
              "  'leap',\n",
              "  'into',\n",
              "  'electronic',\n",
              "  'typesetting,',\n",
              "  'remaining',\n",
              "  'essentially',\n",
              "  'unchanged.',\n",
              "  'it',\n",
              "  'was',\n",
              "  'popularised',\n",
              "  'in',\n",
              "  'the',\n",
              "  '1960s',\n",
              "  'with',\n",
              "  'the',\n",
              "  'release',\n",
              "  'of',\n",
              "  'letraset',\n",
              "  'sheets',\n",
              "  'containing',\n",
              "  'lorem',\n",
              "  'ipsum',\n",
              "  'passages,',\n",
              "  'and',\n",
              "  'more',\n",
              "  'recently',\n",
              "  'with',\n",
              "  'desktop',\n",
              "  'publishing',\n",
              "  'software',\n",
              "  'like',\n",
              "  'aldus',\n",
              "  'pagemaker',\n",
              "  'including',\n",
              "  'versions',\n",
              "  'of',\n",
              "  'lorem',\n",
              "  'ipsum.'],\n",
              " ['lorem',\n",
              "  'ipsum',\n",
              "  'is',\n",
              "  'simply',\n",
              "  'dummy',\n",
              "  'text',\n",
              "  'of',\n",
              "  'the',\n",
              "  'printing',\n",
              "  'and',\n",
              "  'typesetting',\n",
              "  'industry.',\n",
              "  'lorem',\n",
              "  'ipsum',\n",
              "  'has',\n",
              "  'been',\n",
              "  'the',\n",
              "  \"industry's\",\n",
              "  'standard',\n",
              "  'dummy',\n",
              "  'text',\n",
              "  'ever',\n",
              "  'since',\n",
              "  'the',\n",
              "  '1500s,',\n",
              "  'when',\n",
              "  'an',\n",
              "  'unknown',\n",
              "  'printer',\n",
              "  'took',\n",
              "  'a',\n",
              "  'galley',\n",
              "  'of',\n",
              "  'type',\n",
              "  'and',\n",
              "  'scrambled',\n",
              "  'it',\n",
              "  'to',\n",
              "  'make',\n",
              "  'a',\n",
              "  'type',\n",
              "  'specimen',\n",
              "  'book.',\n",
              "  'it',\n",
              "  'has',\n",
              "  'survived',\n",
              "  'not',\n",
              "  'only',\n",
              "  'five',\n",
              "  'centuries,',\n",
              "  'but',\n",
              "  'also',\n",
              "  'the',\n",
              "  'leap',\n",
              "  'into',\n",
              "  'electronic',\n",
              "  'typesetting,',\n",
              "  'remaining',\n",
              "  'essentially',\n",
              "  'unchanged.',\n",
              "  'it',\n",
              "  'was',\n",
              "  'popularised',\n",
              "  'in',\n",
              "  'the',\n",
              "  '1960s',\n",
              "  'with',\n",
              "  'the',\n",
              "  'release',\n",
              "  'of',\n",
              "  'letraset',\n",
              "  'sheets',\n",
              "  'containing',\n",
              "  'lorem',\n",
              "  'ipsum',\n",
              "  'passages,',\n",
              "  'and',\n",
              "  'more',\n",
              "  'recently',\n",
              "  'with',\n",
              "  'desktop',\n",
              "  'publishing',\n",
              "  'software',\n",
              "  'like',\n",
              "  'aldus',\n",
              "  'pagemaker',\n",
              "  'including',\n",
              "  'versions',\n",
              "  'of',\n",
              "  'lorem',\n",
              "  'ipsum.'],\n",
              " ['lorem',\n",
              "  'ipsum',\n",
              "  'is',\n",
              "  'simply',\n",
              "  'dummy',\n",
              "  'text',\n",
              "  'of',\n",
              "  'the',\n",
              "  'printing',\n",
              "  'and',\n",
              "  'typesetting',\n",
              "  'industry.',\n",
              "  'lorem',\n",
              "  'ipsum',\n",
              "  'has',\n",
              "  'been',\n",
              "  'the',\n",
              "  \"industry's\",\n",
              "  'standard',\n",
              "  'dummy',\n",
              "  'text',\n",
              "  'ever',\n",
              "  'since',\n",
              "  'the',\n",
              "  '1500s,',\n",
              "  'when',\n",
              "  'an',\n",
              "  'unknown',\n",
              "  'printer',\n",
              "  'took',\n",
              "  'a',\n",
              "  'galley',\n",
              "  'of',\n",
              "  'type',\n",
              "  'and',\n",
              "  'scrambled',\n",
              "  'it',\n",
              "  'to',\n",
              "  'make',\n",
              "  'a',\n",
              "  'type',\n",
              "  'specimen',\n",
              "  'book.',\n",
              "  'it',\n",
              "  'has',\n",
              "  'survived',\n",
              "  'not',\n",
              "  'only',\n",
              "  'five',\n",
              "  'centuries,',\n",
              "  'but',\n",
              "  'also',\n",
              "  'the',\n",
              "  'leap',\n",
              "  'into',\n",
              "  'electronic',\n",
              "  'typesetting,',\n",
              "  'remaining',\n",
              "  'essentially',\n",
              "  'unchanged.',\n",
              "  'it',\n",
              "  'was',\n",
              "  'popularised',\n",
              "  'in',\n",
              "  'the',\n",
              "  '1960s',\n",
              "  'with',\n",
              "  'the',\n",
              "  'release',\n",
              "  'of',\n",
              "  'letraset',\n",
              "  'sheets',\n",
              "  'containing',\n",
              "  'lorem',\n",
              "  'ipsum',\n",
              "  'passages,',\n",
              "  'and',\n",
              "  'more',\n",
              "  'recently',\n",
              "  'with',\n",
              "  'desktop',\n",
              "  'publishing',\n",
              "  'software',\n",
              "  'like',\n",
              "  'aldus',\n",
              "  'pagemaker',\n",
              "  'including',\n",
              "  'versions',\n",
              "  'of',\n",
              "  'lorem',\n",
              "  'ipsum.'],\n",
              " ['lorem',\n",
              "  'ipsum',\n",
              "  'is',\n",
              "  'simply',\n",
              "  'dummy',\n",
              "  'text',\n",
              "  'of',\n",
              "  'the',\n",
              "  'printing',\n",
              "  'and',\n",
              "  'typesetting',\n",
              "  'industry.',\n",
              "  'lorem',\n",
              "  'ipsum',\n",
              "  'has',\n",
              "  'been',\n",
              "  'the',\n",
              "  \"industry's\",\n",
              "  'standard',\n",
              "  'dummy',\n",
              "  'text',\n",
              "  'ever',\n",
              "  'since',\n",
              "  'the',\n",
              "  '1500s,',\n",
              "  'when',\n",
              "  'an',\n",
              "  'unknown',\n",
              "  'printer',\n",
              "  'took',\n",
              "  'a',\n",
              "  'galley',\n",
              "  'of',\n",
              "  'type',\n",
              "  'and',\n",
              "  'scrambled',\n",
              "  'it',\n",
              "  'to',\n",
              "  'make',\n",
              "  'a',\n",
              "  'type',\n",
              "  'specimen',\n",
              "  'book.',\n",
              "  'it',\n",
              "  'has',\n",
              "  'survived',\n",
              "  'not',\n",
              "  'only',\n",
              "  'five',\n",
              "  'centuries,',\n",
              "  'but',\n",
              "  'also',\n",
              "  'the',\n",
              "  'leap',\n",
              "  'into',\n",
              "  'electronic',\n",
              "  'typesetting,',\n",
              "  'remaining',\n",
              "  'essentially',\n",
              "  'unchanged.',\n",
              "  'it',\n",
              "  'was',\n",
              "  'popularised',\n",
              "  'in',\n",
              "  'the',\n",
              "  '1960s',\n",
              "  'with',\n",
              "  'the',\n",
              "  'release',\n",
              "  'of',\n",
              "  'letraset',\n",
              "  'sheets',\n",
              "  'containing',\n",
              "  'lorem',\n",
              "  'ipsum',\n",
              "  'passages,',\n",
              "  'and',\n",
              "  'more',\n",
              "  'recently',\n",
              "  'with',\n",
              "  'desktop',\n",
              "  'publishing',\n",
              "  'software',\n",
              "  'like',\n",
              "  'aldus',\n",
              "  'pagemaker',\n",
              "  'including',\n",
              "  'versions',\n",
              "  'of',\n",
              "  'lorem',\n",
              "  'ipsum.']]"
            ]
          },
          "metadata": {},
          "execution_count": 26
        }
      ]
    },
    {
      "cell_type": "code",
      "source": [
        "word_split_RDD = text_RDD.flatMap(Func)"
      ],
      "metadata": {
        "id": "Rc1uw8OZQiLv"
      },
      "execution_count": null,
      "outputs": []
    },
    {
      "cell_type": "code",
      "source": [
        "word_split_RDD.count()"
      ],
      "metadata": {
        "colab": {
          "base_uri": "https://localhost:8080/"
        },
        "id": "iYd7d2OkQmZW",
        "outputId": "f3114435-c06c-4ba4-f7da-083f47cc84b6"
      },
      "execution_count": null,
      "outputs": [
        {
          "output_type": "execute_result",
          "data": {
            "text/plain": [
              "546"
            ]
          },
          "metadata": {},
          "execution_count": 28
        }
      ]
    },
    {
      "cell_type": "code",
      "source": [
        "word_split_RDD.take(5)"
      ],
      "metadata": {
        "colab": {
          "base_uri": "https://localhost:8080/"
        },
        "id": "HXf43nX8Qq5H",
        "outputId": "01b6727b-613e-4f94-8d77-3e3945a46274"
      },
      "execution_count": null,
      "outputs": [
        {
          "output_type": "execute_result",
          "data": {
            "text/plain": [
              "['lorem', 'ipsum', 'is', 'simply', 'dummy']"
            ]
          },
          "metadata": {},
          "execution_count": 29
        }
      ]
    },
    {
      "cell_type": "code",
      "source": [
        "filter_word = ['is','an','are','to','about','a','an','the']"
      ],
      "metadata": {
        "id": "YSdWz2lqQr7n"
      },
      "execution_count": null,
      "outputs": []
    },
    {
      "cell_type": "code",
      "source": [
        "filtered_RDD = text_RDD.filter(lambda x: x not in filter_word)"
      ],
      "metadata": {
        "id": "0MneXmEOQvCf"
      },
      "execution_count": null,
      "outputs": []
    },
    {
      "cell_type": "code",
      "source": [
        "filtered_RDD = word_split_RDD.filter(lambda x: x not in filter_word)"
      ],
      "metadata": {
        "id": "4FF-yaTHQxs3"
      },
      "execution_count": null,
      "outputs": []
    },
    {
      "cell_type": "code",
      "source": [
        "filtered_RDD.count()"
      ],
      "metadata": {
        "colab": {
          "base_uri": "https://localhost:8080/"
        },
        "id": "qTjyQ5F_Q1XX",
        "outputId": "26647ffb-ceb1-48b0-82ae-a52600f95b54"
      },
      "execution_count": null,
      "outputs": [
        {
          "output_type": "execute_result",
          "data": {
            "text/plain": [
              "480"
            ]
          },
          "metadata": {},
          "execution_count": 33
        }
      ]
    },
    {
      "cell_type": "code",
      "source": [
        "filtered_RDD.take(50)"
      ],
      "metadata": {
        "colab": {
          "base_uri": "https://localhost:8080/"
        },
        "id": "evzOvNpTQ2hf",
        "outputId": "62fc950b-f03c-425d-d5df-3e32f8755561"
      },
      "execution_count": null,
      "outputs": [
        {
          "output_type": "execute_result",
          "data": {
            "text/plain": [
              "['lorem',\n",
              " 'ipsum',\n",
              " 'simply',\n",
              " 'dummy',\n",
              " 'text',\n",
              " 'of',\n",
              " 'printing',\n",
              " 'and',\n",
              " 'typesetting',\n",
              " 'industry.',\n",
              " 'lorem',\n",
              " 'ipsum',\n",
              " 'has',\n",
              " 'been',\n",
              " \"industry's\",\n",
              " 'standard',\n",
              " 'dummy',\n",
              " 'text',\n",
              " 'ever',\n",
              " 'since',\n",
              " '1500s,',\n",
              " 'when',\n",
              " 'unknown',\n",
              " 'printer',\n",
              " 'took',\n",
              " 'galley',\n",
              " 'of',\n",
              " 'type',\n",
              " 'and',\n",
              " 'scrambled',\n",
              " 'it',\n",
              " 'make',\n",
              " 'type',\n",
              " 'specimen',\n",
              " 'book.',\n",
              " 'it',\n",
              " 'has',\n",
              " 'survived',\n",
              " 'not',\n",
              " 'only',\n",
              " 'five',\n",
              " 'centuries,',\n",
              " 'but',\n",
              " 'also',\n",
              " 'leap',\n",
              " 'into',\n",
              " 'electronic',\n",
              " 'typesetting,',\n",
              " 'remaining',\n",
              " 'essentially']"
            ]
          },
          "metadata": {},
          "execution_count": 34
        }
      ]
    },
    {
      "cell_type": "code",
      "source": [
        "filtered_RDD = word_split_RDD.filter(lambda x: x.startswith('l'))"
      ],
      "metadata": {
        "id": "_VpZPa0AQ6pG"
      },
      "execution_count": null,
      "outputs": []
    },
    {
      "cell_type": "code",
      "source": [
        "filtered_RDD.count()"
      ],
      "metadata": {
        "colab": {
          "base_uri": "https://localhost:8080/"
        },
        "id": "oiKZdx3hQ8xP",
        "outputId": "f9fd17c3-17c9-42ff-ed18-dfcea9168517"
      },
      "execution_count": null,
      "outputs": [
        {
          "output_type": "execute_result",
          "data": {
            "text/plain": [
              "42"
            ]
          },
          "metadata": {},
          "execution_count": 36
        }
      ]
    },
    {
      "cell_type": "code",
      "source": [
        "filtered_RDD.collect()"
      ],
      "metadata": {
        "colab": {
          "base_uri": "https://localhost:8080/"
        },
        "id": "icWKj4-tQ96W",
        "outputId": "83304b59-8f40-4f06-90e3-8d7ba0fc6e3c"
      },
      "execution_count": null,
      "outputs": [
        {
          "output_type": "execute_result",
          "data": {
            "text/plain": [
              "['lorem',\n",
              " 'lorem',\n",
              " 'leap',\n",
              " 'letraset',\n",
              " 'lorem',\n",
              " 'like',\n",
              " 'lorem',\n",
              " 'lorem',\n",
              " 'lorem',\n",
              " 'leap',\n",
              " 'letraset',\n",
              " 'lorem',\n",
              " 'like',\n",
              " 'lorem',\n",
              " 'lorem',\n",
              " 'lorem',\n",
              " 'leap',\n",
              " 'letraset',\n",
              " 'lorem',\n",
              " 'like',\n",
              " 'lorem',\n",
              " 'lorem',\n",
              " 'lorem',\n",
              " 'leap',\n",
              " 'letraset',\n",
              " 'lorem',\n",
              " 'like',\n",
              " 'lorem',\n",
              " 'lorem',\n",
              " 'lorem',\n",
              " 'leap',\n",
              " 'letraset',\n",
              " 'lorem',\n",
              " 'like',\n",
              " 'lorem',\n",
              " 'lorem',\n",
              " 'lorem',\n",
              " 'leap',\n",
              " 'letraset',\n",
              " 'lorem',\n",
              " 'like',\n",
              " 'lorem']"
            ]
          },
          "metadata": {},
          "execution_count": 37
        }
      ]
    },
    {
      "cell_type": "code",
      "source": [
        "var1 = spark.sparkContext.parallelize([('a',1),('b',2),('c',3)])\n",
        "var2 = spark.sparkContext.parallelize([('a',6),('b',5)])"
      ],
      "metadata": {
        "id": "Bld-MrbQRKZ_"
      },
      "execution_count": null,
      "outputs": []
    },
    {
      "cell_type": "code",
      "source": [
        "var_join = var1.join(var2)"
      ],
      "metadata": {
        "id": "AvYAUxgIR2oG"
      },
      "execution_count": null,
      "outputs": []
    },
    {
      "cell_type": "code",
      "source": [
        "var_join.collect()"
      ],
      "metadata": {
        "colab": {
          "base_uri": "https://localhost:8080/"
        },
        "id": "6ZIsvsVeR-B2",
        "outputId": "b2ddfeb8-923f-4830-a10b-c296a3f2c449"
      },
      "execution_count": null,
      "outputs": [
        {
          "output_type": "execute_result",
          "data": {
            "text/plain": [
              "[('b', (2, 5)), ('a', (1, 6))]"
            ]
          },
          "metadata": {},
          "execution_count": 40
        }
      ]
    },
    {
      "cell_type": "code",
      "source": [
        "a = spark.sparkContext.parallelize([1,2,3,4])\n",
        "b = spark.sparkContext.parallelize([1,3,5,7])"
      ],
      "metadata": {
        "id": "A-e8gAJ0SHyX"
      },
      "execution_count": null,
      "outputs": []
    },
    {
      "cell_type": "code",
      "source": [
        "set_union = a.union(b)"
      ],
      "metadata": {
        "id": "Kzo9uBGCSazI"
      },
      "execution_count": null,
      "outputs": []
    },
    {
      "cell_type": "code",
      "source": [
        "set_union.collect()"
      ],
      "metadata": {
        "colab": {
          "base_uri": "https://localhost:8080/"
        },
        "id": "z8YmBpY6Sj1n",
        "outputId": "10eb3398-42a1-4738-f3e5-b9acd9fe9070"
      },
      "execution_count": null,
      "outputs": [
        {
          "output_type": "execute_result",
          "data": {
            "text/plain": [
              "[1, 2, 3, 4, 1, 3, 5, 7]"
            ]
          },
          "metadata": {},
          "execution_count": 43
        }
      ]
    },
    {
      "cell_type": "code",
      "source": [
        "set_intersect = a.intersection(b)"
      ],
      "metadata": {
        "id": "EP4PVqZjSsxv"
      },
      "execution_count": null,
      "outputs": []
    },
    {
      "cell_type": "code",
      "source": [
        "set_intersect.collect()"
      ],
      "metadata": {
        "colab": {
          "base_uri": "https://localhost:8080/"
        },
        "id": "HYIQxLy4TC2e",
        "outputId": "12f3107c-a078-4ecb-fe04-984c8ab48560"
      },
      "execution_count": null,
      "outputs": [
        {
          "output_type": "execute_result",
          "data": {
            "text/plain": [
              "[1, 3]"
            ]
          },
          "metadata": {},
          "execution_count": 46
        }
      ]
    },
    {
      "cell_type": "code",
      "source": [
        "set_cartesian = a.cartesian(b)"
      ],
      "metadata": {
        "id": "wtkWGi9CTHEG"
      },
      "execution_count": null,
      "outputs": []
    },
    {
      "cell_type": "code",
      "source": [
        "set_cartesian.collect()"
      ],
      "metadata": {
        "colab": {
          "base_uri": "https://localhost:8080/"
        },
        "id": "wTciUWwdTerX",
        "outputId": "9ba9b4e5-9c3f-45bf-c30a-d11948640a83"
      },
      "execution_count": null,
      "outputs": [
        {
          "output_type": "execute_result",
          "data": {
            "text/plain": [
              "[(1, 1),\n",
              " (1, 3),\n",
              " (2, 1),\n",
              " (2, 3),\n",
              " (1, 5),\n",
              " (1, 7),\n",
              " (2, 5),\n",
              " (2, 7),\n",
              " (3, 1),\n",
              " (3, 3),\n",
              " (4, 1),\n",
              " (4, 3),\n",
              " (3, 5),\n",
              " (3, 7),\n",
              " (4, 5),\n",
              " (4, 7)]"
            ]
          },
          "metadata": {},
          "execution_count": 48
        }
      ]
    }
  ]
}